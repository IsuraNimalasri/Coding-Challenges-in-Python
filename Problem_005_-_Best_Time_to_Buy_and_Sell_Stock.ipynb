{
 "cells": [
  {
   "cell_type": "markdown",
   "metadata": {},
   "source": [
    "### Best Time to Buy and Sell Stock\n",
    "Say you have an array for which the $i^\\text{th}$ element is the price of a given stock on day $i$.<br>\n",
    "\n",
    "If you were only permitted to complete at most one transaction (i.e., buy one and sell one share of the stock), design an algorithm to find the maximum profit.<br>\n",
    "\n",
    "Note that you cannot sell a stock before you buy one.\n",
    "\n",
    "Example<br>\n",
    "Input: [7,1,5,3,6,4]<br>\n",
    "Output: 5<br>\n",
    "Explanation: Buy on day 2 (price = 1) and sell on day 5 (price = 6), profit = 6-1 = 5.<br>\n",
    "Not 7-1 = 6, as selling price needs to be larger than buying price."
   ]
  },
  {
   "cell_type": "markdown",
   "metadata": {},
   "source": [
    "### Solution\n",
    "The solution seems obvious. One just needs to traverse the price array once, and for each day $k$ compute the profit if the stock were bought at the minimum price before day $k$ and sold at day $k$. Keep and update the overall maximum profit, and the day of the buy/sell action.  "
   ]
  },
  {
   "cell_type": "code",
   "execution_count": 1,
   "metadata": {},
   "outputs": [],
   "source": [
    "def find_max_profit(list_of_prices):\n",
    "    max_profit = 0\n",
    "    buy_day = 0\n",
    "    sell_day = 0\n",
    "    \n",
    "    for d in range(len(list_of_prices)):\n",
    "        profit = list_of_prices[d] - list_of_prices[buy_day]\n",
    "        if profit > max_profit:\n",
    "            max_profit = profit\n",
    "            sell_day = d\n",
    "        \n",
    "        if list_of_prices[d] < list_of_prices[buy_day]:\n",
    "            buy_day = d\n",
    "            \n",
    "    print('Best profit = '+str(max_profit))\n",
    "    if sell_day > 0:\n",
    "        print('Buy on day '+str(buy_day+1))\n",
    "        print('Sell on day '+str(sell_day+1))"
   ]
  },
  {
   "cell_type": "code",
   "execution_count": 2,
   "metadata": {},
   "outputs": [
    {
     "name": "stdout",
     "output_type": "stream",
     "text": [
      "Best profit = 5\n",
      "Buy on day 2\n",
      "Sell on day 5\n"
     ]
    }
   ],
   "source": [
    "find_max_profit([7,1,5,3,6,4])"
   ]
  },
  {
   "cell_type": "code",
   "execution_count": 3,
   "metadata": {},
   "outputs": [
    {
     "name": "stdout",
     "output_type": "stream",
     "text": [
      "Best profit = 0\n"
     ]
    }
   ],
   "source": [
    "find_max_profit([7,6,4,3,1])"
   ]
  },
  {
   "cell_type": "code",
   "execution_count": null,
   "metadata": {
    "collapsed": true
   },
   "outputs": [],
   "source": []
  }
 ],
 "metadata": {
  "kernelspec": {
   "display_name": "Python 3.6",
   "language": "python",
   "name": "python_3.6"
  },
  "language_info": {
   "codemirror_mode": {
    "name": "ipython",
    "version": 3
   },
   "file_extension": ".py",
   "mimetype": "text/x-python",
   "name": "python",
   "nbconvert_exporter": "python",
   "pygments_lexer": "ipython3",
   "version": "3.6.4"
  }
 },
 "nbformat": 4,
 "nbformat_minor": 2
}
