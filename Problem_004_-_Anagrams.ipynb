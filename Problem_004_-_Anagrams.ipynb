{
 "cells": [
  {
   "cell_type": "markdown",
   "metadata": {},
   "source": [
    "### Anagrams\n",
    "Given a sequence of words, print all anagrams together. For example, if the given array is {\"cat\", \"dog\", \"tac\", \"god\", \"act\"}, then output may be<br>\n",
    "[[\"cat\", \"tac\", \"act\"], [\"dog\", \"god\"]]."
   ]
  },
  {
   "cell_type": "markdown",
   "metadata": {},
   "source": [
    "### Solution\n",
    "This is a quick and dirty solution. The efficiency of this solution is $O(n^2)$ (very bad). I'm not proud of it... "
   ]
  },
  {
   "cell_type": "code",
   "execution_count": 1,
   "metadata": {},
   "outputs": [
    {
     "name": "stdout",
     "output_type": "stream",
     "text": [
      "All anagrams:\n",
      "Set 1: ['cat', 'tac', 'act']\n",
      "Set 2: ['dog', 'god']\n"
     ]
    }
   ],
   "source": [
    "def find_anagrams_1(list_of_words):\n",
    "    list_of_sorted_words = [\"\".join(sorted(w)) for w in list_of_words]\n",
    "    set_of_words = set(list_of_sorted_words)\n",
    "\n",
    "    print('All anagrams:')\n",
    "    no_set = 0\n",
    "    for w in set_of_words:\n",
    "        anagrams = [list_of_words[i] for i in range(len(list_of_words)) if list_of_sorted_words[i] == w]\n",
    "        if len(anagrams) > 1:\n",
    "            no_set += 1\n",
    "            print(f'Set {no_set}: ', end=\"\")\n",
    "            print(anagrams)\n",
    "\n",
    "list_of_words = ['cat', 'dog', 'tac', 'god', 'act', 'word_without_a_pair']\n",
    "find_anagrams_1(list_of_words)"
   ]
  },
  {
   "cell_type": "markdown",
   "metadata": {
    "collapsed": true
   },
   "source": [
    "Here's an improved solution. The efficiency of this solution is $O(n)$."
   ]
  },
  {
   "cell_type": "code",
   "execution_count": 2,
   "metadata": {},
   "outputs": [
    {
     "name": "stdout",
     "output_type": "stream",
     "text": [
      "All anagrams:\n",
      "Set 1: ['cat', 'tac', 'act']\n",
      "Set 2: ['dog', 'god']\n"
     ]
    }
   ],
   "source": [
    "def find_anagrams_2(list_of_words):\n",
    "    # Create a dictionary with the key equal to the sorted word and \n",
    "    # the value equal with all anagrams of the sorted word\n",
    "    dict_of_words = {}\n",
    "    for w in list_of_words:\n",
    "        sorted_word = ''.join(sorted(w))\n",
    "        if sorted_word in dict_of_words.keys():\n",
    "            dict_of_words[sorted_word].append(w)\n",
    "        else:\n",
    "            dict_of_words[sorted_word] = [w]\n",
    "\n",
    "    print('All anagrams:')\n",
    "    no_set = 0\n",
    "    for w in dict_of_words:\n",
    "        if len(dict_of_words[w]) > 1:\n",
    "            no_set += 1\n",
    "            print(f'Set {no_set}: ', end=\"\")\n",
    "            print(dict_of_words[w])\n",
    "            \n",
    "list_of_words = ['cat', 'dog', 'tac', 'god', 'act', 'word_without_a_pair']\n",
    "find_anagrams_2(list_of_words)"
   ]
  },
  {
   "cell_type": "markdown",
   "metadata": {},
   "source": [
    "Compare the time to run these algorithms using a long list of words. "
   ]
  },
  {
   "cell_type": "code",
   "execution_count": 3,
   "metadata": {},
   "outputs": [
    {
     "name": "stdout",
     "output_type": "stream",
     "text": [
      "The list contains 25487 words!\n",
      "The first 10 words are: a, AAA, AAAS, aardvark, Aarhus, Aaron, ABA, Ababa, aback, abacus\n"
     ]
    }
   ],
   "source": [
    "import requests\n",
    "word_site = \"http://svnweb.freebsd.org/csrg/share/dict/words?view=co&content-type=text/plain\"\n",
    "response = requests.get(word_site)\n",
    "long_list_of_words = [w.decode('ascii') for w in response.content.splitlines()]\n",
    "print('The list contains '+str(len(long_list_of_words))+' words!')\n",
    "print('The first 10 words are: '+', '.join(long_list_of_words[:10]))"
   ]
  },
  {
   "cell_type": "code",
   "execution_count": 4,
   "metadata": {},
   "outputs": [],
   "source": [
    "%%capture\n",
    "list_of_words = long_list_of_words[:5000]\n",
    "result_1 = %%timeit -o find_anagrams_1(list_of_words)\n",
    "result_2 = %%timeit -o find_anagrams_2(list_of_words)"
   ]
  },
  {
   "cell_type": "code",
   "execution_count": 5,
   "metadata": {},
   "outputs": [
    {
     "name": "stdout",
     "output_type": "stream",
     "text": [
      "1.44 s ± 53.4 ms per loop (mean ± std. dev. of 7 runs, 1 loop each)\n",
      "6.6 ms ± 549 µs per loop (mean ± std. dev. of 7 runs, 100 loops each)\n"
     ]
    }
   ],
   "source": [
    "print(result_1)\n",
    "print(result_2)"
   ]
  },
  {
   "cell_type": "markdown",
   "metadata": {},
   "source": [
    "### Conclusion\n",
    "Searching for anagrams among 5,000 words, the first method took ~1.5 s to find all anagrams, while the second method took only ~7 ms, so we improved the search time by ~200 times!"
   ]
  },
  {
   "cell_type": "code",
   "execution_count": null,
   "metadata": {
    "collapsed": true
   },
   "outputs": [],
   "source": []
  }
 ],
 "metadata": {
  "kernelspec": {
   "display_name": "Python 3.6",
   "language": "python",
   "name": "python_3.6"
  },
  "language_info": {
   "codemirror_mode": {
    "name": "ipython",
    "version": 3
   },
   "file_extension": ".py",
   "mimetype": "text/x-python",
   "name": "python",
   "nbconvert_exporter": "python",
   "pygments_lexer": "ipython3",
   "version": "3.6.4"
  }
 },
 "nbformat": 4,
 "nbformat_minor": 2
}
