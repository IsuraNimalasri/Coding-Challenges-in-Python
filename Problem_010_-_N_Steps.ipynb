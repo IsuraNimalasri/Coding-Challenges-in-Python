{
 "cells": [
  {
   "cell_type": "markdown",
   "metadata": {},
   "source": [
    "### N Steps\n",
    "You have to climb N stairs. In how many ways can you climb N stairs in steps of 1 or 2 stairs?\n",
    "\n",
    "Example<br>\n",
    "Input: 4<br>\n",
    "Output:<br>\n",
    "Ways of climbing 4 stairs:<br>\n",
    "[2,2]<br>\n",
    "[2,1,1]<br>\n",
    "[1,2,1]<br>\n",
    "[1,1,2]<br>\n",
    "[1,1,1,1]"
   ]
  },
  {
   "cell_type": "markdown",
   "metadata": {},
   "source": [
    "### Solution\n",
    "Before climbing the N stairs, the last step was either 1 or 2. So the number of ways of climbing N stairs, S(N), is equal to the number of ways of climbing the previous N-1 stairs, S(N-1), plus the number of ways of climbing the previous N02 stairs, S(N-2). So we obtain that S(N) = S(N-1) + S(N-2).<br>\n",
    "\n",
    "Stating from S(1) = 1, and S(2) = 2, we can compute S(N) in a recursive way.\n"
   ]
  },
  {
   "cell_type": "code",
   "execution_count": 1,
   "metadata": {
    "collapsed": true
   },
   "outputs": [],
   "source": [
    "def steps(N):\n",
    "    \n",
    "    if N == 1:\n",
    "        return 1\n",
    "    elif N == 2:\n",
    "        return 2\n",
    "    else:\n",
    "        return steps(N-1) + steps(N-2)"
   ]
  },
  {
   "cell_type": "code",
   "execution_count": 2,
   "metadata": {},
   "outputs": [
    {
     "data": {
      "text/plain": [
       "3"
      ]
     },
     "execution_count": 2,
     "metadata": {},
     "output_type": "execute_result"
    }
   ],
   "source": [
    "steps(3)"
   ]
  },
  {
   "cell_type": "code",
   "execution_count": 3,
   "metadata": {},
   "outputs": [
    {
     "data": {
      "text/plain": [
       "5"
      ]
     },
     "execution_count": 3,
     "metadata": {},
     "output_type": "execute_result"
    }
   ],
   "source": [
    "steps(4)"
   ]
  },
  {
   "cell_type": "code",
   "execution_count": 4,
   "metadata": {},
   "outputs": [
    {
     "data": {
      "text/plain": [
       "8"
      ]
     },
     "execution_count": 4,
     "metadata": {},
     "output_type": "execute_result"
    }
   ],
   "source": [
    "steps(5)"
   ]
  },
  {
   "cell_type": "markdown",
   "metadata": {
    "collapsed": true
   },
   "source": [
    "Suppose we also want to print all possible combinations of steps. Here's how we can do that."
   ]
  },
  {
   "cell_type": "code",
   "execution_count": 5,
   "metadata": {
    "collapsed": true
   },
   "outputs": [],
   "source": [
    "def print_steps(N, list_of_steps=[]):\n",
    "    if sum(list_of_steps) == N:\n",
    "        print(list_of_steps)\n",
    "    elif sum(list_of_steps) <= N-2:\n",
    "        print_steps(N, list_of_steps+[1])\n",
    "        print_steps(N, list_of_steps+[2])\n",
    "    elif sum(list_of_steps) == N-1:\n",
    "        print_steps(N, list_of_steps+[1])"
   ]
  },
  {
   "cell_type": "code",
   "execution_count": 6,
   "metadata": {},
   "outputs": [
    {
     "name": "stdout",
     "output_type": "stream",
     "text": [
      "[1, 1, 1, 1, 1]\n",
      "[1, 1, 1, 2]\n",
      "[1, 1, 2, 1]\n",
      "[1, 2, 1, 1]\n",
      "[1, 2, 2]\n",
      "[2, 1, 1, 1]\n",
      "[2, 1, 2]\n",
      "[2, 2, 1]\n"
     ]
    }
   ],
   "source": [
    "print_steps(5, [])"
   ]
  },
  {
   "cell_type": "code",
   "execution_count": null,
   "metadata": {
    "collapsed": true
   },
   "outputs": [],
   "source": []
  }
 ],
 "metadata": {
  "kernelspec": {
   "display_name": "Python 3.6",
   "language": "python",
   "name": "python_3.6"
  },
  "language_info": {
   "codemirror_mode": {
    "name": "ipython",
    "version": 3
   },
   "file_extension": ".py",
   "mimetype": "text/x-python",
   "name": "python",
   "nbconvert_exporter": "python",
   "pygments_lexer": "ipython3",
   "version": "3.6.4"
  }
 },
 "nbformat": 4,
 "nbformat_minor": 2
}
