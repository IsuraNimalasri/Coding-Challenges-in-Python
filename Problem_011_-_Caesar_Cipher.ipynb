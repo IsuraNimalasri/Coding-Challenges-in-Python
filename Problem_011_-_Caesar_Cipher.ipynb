{
 "cells": [
  {
   "cell_type": "markdown",
   "metadata": {},
   "source": [
    "### Caesar Cipher\n",
    "Caesar's cipher shifts each letter by a number of letters. If the shift takes you past the end of the alphabet, just rotate back to the front of the alphabet. In the case of a rotation by 3, w, x, y and z would map to z, a, b and c.\n",
    "\n",
    "Example<br>\n",
    "Input: s = 'abcdefghijklmnopqrstuvwxyz' <br>\n",
    "k = 2 <br>\n",
    "Output: caesarCipher(s, k) = 'cdefghijklmnopqrstuvwxyzab'<br>\n",
    "Consider both capital and lowercase letters!"
   ]
  },
  {
   "cell_type": "markdown",
   "metadata": {},
   "source": [
    "### Solution"
   ]
  },
  {
   "cell_type": "code",
   "execution_count": 1,
   "metadata": {},
   "outputs": [],
   "source": [
    "def caesarCipher(s, k):\n",
    "    \n",
    "    s_list = list(s)\n",
    "    shifted_list = []\n",
    "    num_letters = ord('z') - ord('a') + 1\n",
    "    for c in s_list:\n",
    "        if c == c.upper():\n",
    "            shifted_list.append(chr(ord('A') + ((ord(c) - ord('A')) + k) % (num_letters)))\n",
    "        else:\n",
    "            shifted_list.append(chr(ord('a') + ((ord(c) - ord('a')) + k) % (num_letters)))\n",
    "    \n",
    "    return ''.join(shifted_list)"
   ]
  },
  {
   "cell_type": "code",
   "execution_count": 2,
   "metadata": {},
   "outputs": [
    {
     "data": {
      "text/plain": [
       "'cdefghijklmnopqrstuvwxyzabXYZAB'"
      ]
     },
     "execution_count": 2,
     "metadata": {},
     "output_type": "execute_result"
    }
   ],
   "source": [
    "caesarCipher('abcdefghijklmnopqrstuvwxyzVWXYZ', 2)"
   ]
  },
  {
   "cell_type": "code",
   "execution_count": null,
   "metadata": {
    "collapsed": true
   },
   "outputs": [],
   "source": []
  }
 ],
 "metadata": {
  "kernelspec": {
   "display_name": "Python 3.6",
   "language": "python",
   "name": "python_3.6"
  },
  "language_info": {
   "codemirror_mode": {
    "name": "ipython",
    "version": 3
   },
   "file_extension": ".py",
   "mimetype": "text/x-python",
   "name": "python",
   "nbconvert_exporter": "python",
   "pygments_lexer": "ipython3",
   "version": "3.6.4"
  }
 },
 "nbformat": 4,
 "nbformat_minor": 2
}
