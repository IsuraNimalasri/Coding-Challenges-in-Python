{
 "cells": [
  {
   "cell_type": "markdown",
   "metadata": {},
   "source": [
    "### Best Time to Buy and Sell Stock with Cooldown\n",
    "Say you have an array for which the $i^\\text{th}$ element is the price of a given stock on day $i$.<br>\n",
    "\n",
    "Design an algorithm to find the maximum profit. You may complete as many transactions as you like (ie, buy one and sell one share of the stock multiple times) with the following restrictions:<br>\n",
    "\n",
    "You may not engage in multiple transactions at the same time (ie, you must sell the stock before you buy again).<br>\n",
    "After you sell your stock, you cannot buy stock on next day. (ie, cooldown 1 day)<br>\n",
    "\n",
    "Example<br>\n",
    "Input: [1,2,3,0,2]<br>\n",
    "Output: 3<br>\n",
    "Explanation: transactions = [buy, sell, cooldown, buy, sell]"
   ]
  },
  {
   "cell_type": "markdown",
   "metadata": {},
   "source": [
    "### Solution\n",
    "Each day, the portfolio will be in one of the following four states:\n",
    "- (0,0): zero stocks at the beginning of the day, zero stocks at the end of the day\n",
    "- (0,1): zero stocks at the beginning of the day, buy one stock, and have one stock at the end of the day\n",
    "- (1,1): one stock at the beginning of the day, one stock at the end of the day\n",
    "- (1,0): one stock at the beginning of the day, sell one stock, and remain with zero stock at the end of the day\n",
    "\n",
    "The value of the portfolio at the end of each day $i$ is:\n",
    "- (0,0): p[i] = p[i-1]\n",
    "- (0,1): p[i] = p[i-1] - price[i] (we buy stock at price[i])\n",
    "- (1,1): p[i] = p[i-1]\n",
    "- (1,0): p[i] = p[i-1] + price[i] (we sell stock for price[i])\n",
    "\n",
    "Let's denote the portfolio corresponding to each state and each day by\n",
    "$p_{00}[i], p_{01}[i], p_{10}[i], p_{11}[i]$.\n",
    "\n",
    "There are 2 posibilities to get into state (0,0):\n",
    "- (0,0)→(0,0); $p_{00}[i] = p_{00}[i-1]$\n",
    "- (1,0)→(0,0); $p_{00}[i] = p_{10}[i-1]$\n",
    "\n",
    "We will maximize the portfolio value by choosing the most profitable path, so $p_{00}[i] = \\max(p_{00}[i-1], p_{10}[i-1])$.<br>\n",
    "\n",
    "There are 2 posibilities to get into state (1,1):\n",
    "- (1,1)→(1,1); $p_{11}[i] = p_{11}[i-1]$\n",
    "- (0,1)→(1,1); $p_{11}[i] = p_{01}[i-1]$\n",
    "\n",
    "so $p_{11}[i] = \\max(p_{11}[i-1], p_{01}[i-1])$<br>\n",
    "\n",
    "There are 2 posibilities to get into state (1,0):\n",
    "- (0,1)→(1,0); $p_{10}[i] = p_{01}[i-1] + \\text{price}[i]$ (sell stock; earn $\\text{price}[i]$)\n",
    "- (1,1)→(1,0); $p_{10}[i] = p_{11}[i-1] + \\text{price}[i]$ (sell stock; earn $\\text{price}[i]$)\n",
    "\n",
    "so $p_{10}[i] = \\max(p_{11}[i-1], p_{01}[i-1]) + \\text{price}[i]$<br>\n",
    "\n",
    "There is only one possibility to get into state (0,1):\n",
    "- (0,0)→(0,1); $p_{01}[i] = p_{00}[i-1] - \\text{price}[i]$ (buy stock; spend $\\text{price}[i]$)\n",
    "\n",
    "because (1,0)→(0,1) is not allowed (required cooldown of 1 day). Therefore $p_{01}[i] = p_{00}[i-1] - \\text{price}[i]$<br>\n",
    "\n",
    "So we can find the maximum profit by going once through all N days."
   ]
  },
  {
   "cell_type": "code",
   "execution_count": 1,
   "metadata": {
    "collapsed": true
   },
   "outputs": [],
   "source": [
    "def find_max_profit(prices):\n",
    "    p00 = [None]*len(prices)\n",
    "    p01 = [None]*len(prices)\n",
    "    p10 = [None]*len(prices)\n",
    "    p11 = [None]*len(prices)\n",
    "    \n",
    "    # Initial values of the portfolio in the first day:\n",
    "    p00[0] = 0\n",
    "    p01[0] = - prices[0]\n",
    "    p10[0] = -1000000 # This state is not allowed in the initial day, because in the beginning we don't have any stock in the portfolio\n",
    "    p11[0] = -1000000 # This state is not allowed in the initial day, because in the beginning we don't have any stock in the portfolio \n",
    "    \n",
    "    for i in range(1, len(prices)):\n",
    "        p00[i] = max(p00[i-1], p10[i-1])\n",
    "        p11[i] = max(p11[i-1], p01[i-1])\n",
    "        p10[i] = max(p11[i-1], p01[i-1]) + prices[i]\n",
    "        p01[i] = p00[i-1] - prices[i]  \n",
    "            \n",
    "    return max([p00[-1], p01[-1], p10[-1], p11[-1]])"
   ]
  },
  {
   "cell_type": "code",
   "execution_count": 2,
   "metadata": {},
   "outputs": [
    {
     "data": {
      "text/plain": [
       "3"
      ]
     },
     "execution_count": 2,
     "metadata": {},
     "output_type": "execute_result"
    }
   ],
   "source": [
    "find_max_profit([1,2,3,0,2])"
   ]
  },
  {
   "cell_type": "code",
   "execution_count": 3,
   "metadata": {},
   "outputs": [
    {
     "data": {
      "text/plain": [
       "3"
      ]
     },
     "execution_count": 3,
     "metadata": {},
     "output_type": "execute_result"
    }
   ],
   "source": [
    "find_max_profit([2,4,1,4])"
   ]
  },
  {
   "cell_type": "code",
   "execution_count": null,
   "metadata": {
    "collapsed": true
   },
   "outputs": [],
   "source": []
  }
 ],
 "metadata": {
  "kernelspec": {
   "display_name": "Python 3.6",
   "language": "python",
   "name": "python_3.6"
  },
  "language_info": {
   "codemirror_mode": {
    "name": "ipython",
    "version": 3
   },
   "file_extension": ".py",
   "mimetype": "text/x-python",
   "name": "python",
   "nbconvert_exporter": "python",
   "pygments_lexer": "ipython3",
   "version": "3.6.4"
  }
 },
 "nbformat": 4,
 "nbformat_minor": 2
}
