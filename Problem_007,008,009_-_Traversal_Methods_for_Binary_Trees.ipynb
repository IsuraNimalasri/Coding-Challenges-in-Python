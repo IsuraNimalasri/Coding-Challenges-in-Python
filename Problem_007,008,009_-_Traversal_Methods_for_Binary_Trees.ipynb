{
 "cells": [
  {
   "cell_type": "markdown",
   "metadata": {},
   "source": [
    "### Traversal Methods for Binary Trees\n",
    "Problem 007: Given a binary tree, return the preorder traversal of its nodes' values.<br>\n",
    "Problem 007: Given a binary tree, return the inorder traversal of its nodes' values.<br>\n",
    "Problem 007: Given a binary tree, return the postorder traversal of its nodes' values."
   ]
  },
  {
   "cell_type": "markdown",
   "metadata": {},
   "source": [
    "### Solution\n",
    "Below we'll implement a BinaryTree class, together with methods for preorder, inorder and postorder traversals. "
   ]
  },
  {
   "cell_type": "code",
   "execution_count": 1,
   "metadata": {
    "collapsed": true
   },
   "outputs": [],
   "source": [
    "class BinaryTree(object):\n",
    "    \n",
    "    def __init__(self, rootObj):\n",
    "        self.key = rootObj # root value\n",
    "        self.left = None   # left child   \n",
    "        self.right = None  # right child\n",
    "        \n",
    "    def insertLeft(self, newNode):\n",
    "        if self.left == None:\n",
    "            self.left = BinaryTree(newNode)\n",
    "        else:\n",
    "            n = BinaryTree(newNode) # Insert the new node\n",
    "            n.left = self.left      # Push the existing child one level down\n",
    "            self.left = n\n",
    "            \n",
    "    def insertRight(self, newNode):\n",
    "        if self.right == None:\n",
    "            self.right = BinaryTree(newNode)\n",
    "        else:\n",
    "            n = BinaryTree(newNode) # Insert the new node\n",
    "            n.right = self.right    # Push the existing child one level down\n",
    "            self.right = n\n",
    "            \n",
    "    def getLeftChild(self):\n",
    "        return self.left\n",
    "    \n",
    "    def getRightChild(self):\n",
    "        return self.right\n",
    "    \n",
    "    def getRootKey(self):\n",
    "        return self.key\n",
    "    \n",
    "    def setRootKey(self, newRootKey):\n",
    "        self.key = newRootKey\n",
    "        \n",
    "    def preorderTraverse(self):\n",
    "        if self != None:\n",
    "            print(self.key)\n",
    "            if self.getLeftChild() != None:\n",
    "                self.getLeftChild().preorderTraverse()\n",
    "            if self.getRightChild() != None:\n",
    "                self.getRightChild().preorderTraverse()\n",
    "                \n",
    "    def inorderTraverse(self):\n",
    "        if self != None:\n",
    "            if self.getLeftChild() != None:\n",
    "                self.getLeftChild().inorderTraverse()\n",
    "            print(self.key)\n",
    "            if self.getRightChild() != None:\n",
    "                self.getRightChild().inorderTraverse()\n",
    "                \n",
    "    def postorderTraverse(self):\n",
    "        if self != None:\n",
    "            if self.getLeftChild() != None:\n",
    "                self.getLeftChild().postorderTraverse()\n",
    "            if self.getRightChild() != None:\n",
    "                self.getRightChild().postorderTraverse()\n",
    "            print(self.key)\n",
    "    \n",
    "    def getDepth(self):\n",
    "        pass\n",
    "        "
   ]
  },
  {
   "cell_type": "markdown",
   "metadata": {},
   "source": [
    "OK, let's test now the BinaryTree class."
   ]
  },
  {
   "cell_type": "code",
   "execution_count": 2,
   "metadata": {
    "collapsed": true
   },
   "outputs": [],
   "source": [
    "t = BinaryTree('A')"
   ]
  },
  {
   "cell_type": "code",
   "execution_count": 3,
   "metadata": {},
   "outputs": [
    {
     "data": {
      "text/plain": [
       "'C'"
      ]
     },
     "execution_count": 3,
     "metadata": {},
     "output_type": "execute_result"
    }
   ],
   "source": [
    "t.insertLeft('C')\n",
    "t.getLeftChild().key"
   ]
  },
  {
   "cell_type": "code",
   "execution_count": 4,
   "metadata": {},
   "outputs": [
    {
     "name": "stdout",
     "output_type": "stream",
     "text": [
      "B\n",
      "C\n"
     ]
    }
   ],
   "source": [
    "t.insertLeft('B')\n",
    "print(t.getLeftChild().key)\n",
    "print(t.getLeftChild().getLeftChild().key)"
   ]
  },
  {
   "cell_type": "code",
   "execution_count": 5,
   "metadata": {},
   "outputs": [
    {
     "data": {
      "text/plain": [
       "'E'"
      ]
     },
     "execution_count": 5,
     "metadata": {},
     "output_type": "execute_result"
    }
   ],
   "source": [
    "t.insertRight('E')\n",
    "t.getRightChild().key"
   ]
  },
  {
   "cell_type": "code",
   "execution_count": 6,
   "metadata": {},
   "outputs": [
    {
     "name": "stdout",
     "output_type": "stream",
     "text": [
      "D\n",
      "E\n"
     ]
    }
   ],
   "source": [
    "t.insertRight('D')\n",
    "print(t.getRightChild().key)\n",
    "print(t.getRightChild().getRightChild().key)"
   ]
  },
  {
   "cell_type": "code",
   "execution_count": 7,
   "metadata": {
    "collapsed": true
   },
   "outputs": [],
   "source": [
    "t.getRightChild().insertLeft('F')\n",
    "t.getLeftChild().insertRight('G')"
   ]
  },
  {
   "cell_type": "code",
   "execution_count": 8,
   "metadata": {},
   "outputs": [
    {
     "name": "stdout",
     "output_type": "stream",
     "text": [
      "A\n",
      "B\n",
      "C\n",
      "G\n",
      "D\n",
      "F\n",
      "E\n"
     ]
    }
   ],
   "source": [
    "t.preorderTraverse()"
   ]
  },
  {
   "cell_type": "code",
   "execution_count": 9,
   "metadata": {},
   "outputs": [
    {
     "name": "stdout",
     "output_type": "stream",
     "text": [
      "C\n",
      "B\n",
      "G\n",
      "A\n",
      "F\n",
      "D\n",
      "E\n"
     ]
    }
   ],
   "source": [
    "t.inorderTraverse()"
   ]
  },
  {
   "cell_type": "code",
   "execution_count": 10,
   "metadata": {},
   "outputs": [
    {
     "name": "stdout",
     "output_type": "stream",
     "text": [
      "C\n",
      "G\n",
      "B\n",
      "F\n",
      "E\n",
      "D\n",
      "A\n"
     ]
    }
   ],
   "source": [
    "t.postorderTraverse()"
   ]
  },
  {
   "cell_type": "code",
   "execution_count": null,
   "metadata": {
    "collapsed": true
   },
   "outputs": [],
   "source": []
  }
 ],
 "metadata": {
  "kernelspec": {
   "display_name": "Python 3.6",
   "language": "python",
   "name": "python_3.6"
  },
  "language_info": {
   "codemirror_mode": {
    "name": "ipython",
    "version": 3
   },
   "file_extension": ".py",
   "mimetype": "text/x-python",
   "name": "python",
   "nbconvert_exporter": "python",
   "pygments_lexer": "ipython3",
   "version": "3.6.4"
  }
 },
 "nbformat": 4,
 "nbformat_minor": 2
}
