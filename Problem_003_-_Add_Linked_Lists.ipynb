{
 "cells": [
  {
   "cell_type": "markdown",
   "metadata": {},
   "source": [
    "### Add two numbers represented by linked lists\n",
    "Two numbers are represented by two lists: the digits are stored in reverse order and each node contains a single digit. Write a function that returns a list representing the sum of these two numbers.<br>\n",
    "\n",
    "#### Example\n",
    "Input:<br>\n",
    "    The first number  99785 represented as a list: 5->8->7->9->9 <br>\n",
    "    The second number   325 represented as a list: 5->2->3 <br>\n",
    "\n",
    "Output:<br>\n",
    "    Sum list: 0->1->1->0->0->1 (representing the number 100110)"
   ]
  },
  {
   "cell_type": "markdown",
   "metadata": {},
   "source": [
    "### Solution"
   ]
  },
  {
   "cell_type": "markdown",
   "metadata": {},
   "source": [
    "First we need to implement the linked list data structure. We first create a Node class"
   ]
  },
  {
   "cell_type": "code",
   "execution_count": 1,
   "metadata": {},
   "outputs": [],
   "source": [
    "class Node(object):\n",
    "    def __init__(self, value):\n",
    "        self.value = value\n",
    "        self.nextnode = None"
   ]
  },
  {
   "cell_type": "markdown",
   "metadata": {},
   "source": [
    "Now we need to create a class for the simply linked list"
   ]
  },
  {
   "cell_type": "code",
   "execution_count": 2,
   "metadata": {
    "collapsed": true
   },
   "outputs": [],
   "source": [
    "class SimplyLinkedList:\n",
    "    # Initialize head\n",
    "    def __init__(self):\n",
    "        self.head = None\n",
    " \n",
    "    # Function to insert a new head node\n",
    "    def push(self, new_data):\n",
    "        new_data.nextnode = self.head\n",
    "        self.head = new_data\n",
    " \n",
    "    # Function to print the linked list\n",
    "    def printList(self):\n",
    "        current_node = self.head\n",
    "        print(current_node.value, end=\"\")\n",
    "        while current_node.nextnode != None:\n",
    "            current_node = current_node.nextnode\n",
    "            print(' -> ', end=\"\")\n",
    "            print(current_node.value, end=\"\")"
   ]
  },
  {
   "cell_type": "code",
   "execution_count": 3,
   "metadata": {},
   "outputs": [
    {
     "name": "stdout",
     "output_type": "stream",
     "text": [
      "The first list is:  5 -> 8 -> 7 -> 9 -> 9\n",
      "The second list is: 5 -> 2 -> 3"
     ]
    }
   ],
   "source": [
    "list_1 = SimplyLinkedList()\n",
    "list_2 = SimplyLinkedList()\n",
    " \n",
    "# Create the first list (number 99785; 5 -> 8 -> 7 -> 9 -> 9)\n",
    "list_1.push(Node(9))\n",
    "list_1.push(Node(9))\n",
    "list_1.push(Node(7))\n",
    "list_1.push(Node(8))\n",
    "list_1.push(Node(5))\n",
    "print('The first list is:  ', end=\"\")\n",
    "list_1.printList()\n",
    "\n",
    "# Create the second list (number 325; 5 -> 2 -> 3)\n",
    "list_2.push(Node(3))\n",
    "list_2.push(Node(2))\n",
    "list_2.push(Node(5))\n",
    "print('\\nThe second list is: ', end=\"\")\n",
    "list_2.printList()"
   ]
  },
  {
   "cell_type": "markdown",
   "metadata": {
    "collapsed": true
   },
   "source": [
    "Now we need to add the two lists."
   ]
  },
  {
   "cell_type": "code",
   "execution_count": 4,
   "metadata": {
    "collapsed": true
   },
   "outputs": [],
   "source": [
    "def add_two_simply_linked_lists(l1, l2):\n",
    "    result = SimplyLinkedList()\n",
    "    tail = None\n",
    "    \n",
    "    # Read the first elements\n",
    "    e1 = l1.head\n",
    "    e2 = l2.head\n",
    "    \n",
    "    n = 0\n",
    "    while (e1 != None) or (e2 != None): # At least one list still has extra nodes/digits\n",
    "        # Get values from each node\n",
    "        val1 = e1.value if (e1 != None) else 0\n",
    "        val2 = e2.value if (e2 != None) else 0\n",
    "        \n",
    "        # Compute sum, quotient and remainder\n",
    "        s = val1 + val2 + n\n",
    "        n = s // 10 # quotient (carry to the next level)\n",
    "        r = s % 10  # reminder\n",
    "        \n",
    "        # Inset r in the tail of result\n",
    "        if (tail == None): # If the result list was empty so far\n",
    "            result.head = Node(r)\n",
    "            tail = result.head\n",
    "        else:              # If the result list already contained some digits\n",
    "            tail.nextnode = Node(r)\n",
    "            tail = tail.nextnode\n",
    "        \n",
    "        if (e1 != None):\n",
    "            e1 = e1.nextnode\n",
    "        if (e2 != None):\n",
    "            e2 = e2.nextnode\n",
    "        \n",
    "    # If there is a carry number n > 0, create a new node for it\n",
    "    if n>0:\n",
    "        tail.nextnode = Node(n)\n",
    "        \n",
    "    return result"
   ]
  },
  {
   "cell_type": "code",
   "execution_count": 5,
   "metadata": {},
   "outputs": [
    {
     "name": "stdout",
     "output_type": "stream",
     "text": [
      "0 -> 1 -> 1 -> 0 -> 0 -> 1"
     ]
    }
   ],
   "source": [
    "sum_list = add_two_simply_linked_lists(list_1, list_2)\n",
    "sum_list.printList()"
   ]
  },
  {
   "cell_type": "markdown",
   "metadata": {},
   "source": [
    "We obtained the correct result: 99785 + 325 = 100110"
   ]
  },
  {
   "cell_type": "code",
   "execution_count": null,
   "metadata": {
    "collapsed": true
   },
   "outputs": [],
   "source": []
  }
 ],
 "metadata": {
  "kernelspec": {
   "display_name": "Python 3.6",
   "language": "python",
   "name": "python_3.6"
  },
  "language_info": {
   "codemirror_mode": {
    "name": "ipython",
    "version": 3
   },
   "file_extension": ".py",
   "mimetype": "text/x-python",
   "name": "python",
   "nbconvert_exporter": "python",
   "pygments_lexer": "ipython3",
   "version": "3.6.4"
  }
 },
 "nbformat": 4,
 "nbformat_minor": 2
}
