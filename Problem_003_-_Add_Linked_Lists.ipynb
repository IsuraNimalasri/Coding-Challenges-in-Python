{
 "cells": [
  {
   "cell_type": "markdown",
   "metadata": {},
   "source": [
    "### Add two numbers represented by linked lists\n",
    "Two numbers are represented by two lists: the digits are stored in reverse order and each node contains a single digit. Write a function that returns a list representing the sum of these two numbers.<br>\n",
    "\n",
    "#### Example\n",
    "Input:<br>\n",
    "    The first number  99785 represented as a list: 5→8→7→9→9 <br>\n",
    "    The second number   325 represented as a list: 5→2→3 <br>\n",
    "\n",
    "Output:<br>\n",
    "    Sum list: 0→1→1→0→0→1 (representing the number 100110)"
   ]
  },
  {
   "cell_type": "markdown",
   "metadata": {},
   "source": [
    "### Solution"
   ]
  },
  {
   "cell_type": "markdown",
   "metadata": {},
   "source": [
    "First we need to implement the linked list data structure. We first create a Node class"
   ]
  },
  {
   "cell_type": "code",
   "execution_count": 1,
   "metadata": {
    "collapsed": true
   },
   "outputs": [],
   "source": [
    "class Node(object):\n",
    "    def __init__(self, value):\n",
    "        self.value = value\n",
    "        self.next = None"
   ]
  },
  {
   "cell_type": "markdown",
   "metadata": {},
   "source": [
    "Now we need to create a class for the simply linked list"
   ]
  },
  {
   "cell_type": "code",
   "execution_count": 2,
   "metadata": {
    "collapsed": true
   },
   "outputs": [],
   "source": [
    "class SinglyLinkedList:\n",
    "    # __init__ Constructor\n",
    "    def __init__(self):\n",
    "        self.head = None\n",
    "        self.tail = None\n",
    " \n",
    "    # String representation\n",
    "    def __str__(self):\n",
    "        current_node = self.head\n",
    "        string = str(current_node.value)\n",
    "        while current_node.next != None:\n",
    "            current_node = current_node.next\n",
    "            string = string + '→' + str(current_node.value)\n",
    "        return string\n",
    "    \n",
    "    # Function to insert a new head node\n",
    "    def push_front(self, val):\n",
    "        new_node = Node(val)\n",
    "        new_node.next = self.head\n",
    "        self.head = new_node\n",
    "        if self.tail is None:\n",
    "            self.tail = self.head\n",
    "        \n",
    "    # Function to insert a new tail node\n",
    "    def push_back(self, val):\n",
    "        new_node = Node(val)\n",
    "        if self.tail is None:\n",
    "            self.tail = new_node\n",
    "            self.head = self.tail\n",
    "        else:\n",
    "            self.tail.next = new_node\n",
    "            self.tail = new_node\n"
   ]
  },
  {
   "cell_type": "code",
   "execution_count": 3,
   "metadata": {},
   "outputs": [
    {
     "name": "stdout",
     "output_type": "stream",
     "text": [
      "The first list is:  5→8→7→9→9\n",
      "The second list is: 5→2→3\n"
     ]
    }
   ],
   "source": [
    "list_1 = SinglyLinkedList()\n",
    "list_2 = SinglyLinkedList()\n",
    " \n",
    "# Create the first list (number 99785; 5 -> 8 -> 7 -> 9 -> 9)\n",
    "list_1.push_front(9)\n",
    "list_1.push_front(9)\n",
    "list_1.push_front(7)\n",
    "list_1.push_front(8)\n",
    "list_1.push_front(5)\n",
    "print('The first list is:  ', end=\"\")\n",
    "print(list_1)\n",
    "\n",
    "# Create the second list (number 325; 5 -> 2 -> 3)\n",
    "list_2.push_back(5)\n",
    "list_2.push_back(2)\n",
    "list_2.push_back(3)\n",
    "print('The second list is: ', end=\"\")\n",
    "print(list_2)"
   ]
  },
  {
   "cell_type": "markdown",
   "metadata": {
    "collapsed": true
   },
   "source": [
    "Now we need to add the two lists."
   ]
  },
  {
   "cell_type": "code",
   "execution_count": 4,
   "metadata": {
    "collapsed": true
   },
   "outputs": [],
   "source": [
    "def add_two_singly_linked_lists(l1, l2):\n",
    "    result = SinglyLinkedList()\n",
    "    \n",
    "    # Read the first elements\n",
    "    e1 = l1.head\n",
    "    e2 = l2.head\n",
    "    \n",
    "    n = 0\n",
    "    while (e1 != None) or (e2 != None): # At least one list still has extra nodes/digits\n",
    "        # Get values from each node\n",
    "        val1 = e1.value if (e1 != None) else 0\n",
    "        val2 = e2.value if (e2 != None) else 0\n",
    "        \n",
    "        # Compute sum, quotient and remainder\n",
    "        s = val1 + val2 + n\n",
    "        n = s // 10 # quotient (carry to the next level)\n",
    "        r = s % 10  # reminder\n",
    "        \n",
    "        # Inset r in the tail of result\n",
    "        result.push_back(r)\n",
    "        \n",
    "        if (e1 != None):\n",
    "            e1 = e1.next\n",
    "        if (e2 != None):\n",
    "            e2 = e2.next\n",
    "        \n",
    "    # If there is a carry number n > 0, create a new node for it\n",
    "    if n>0:\n",
    "        result.push_back(n)\n",
    "        \n",
    "    return result"
   ]
  },
  {
   "cell_type": "code",
   "execution_count": 5,
   "metadata": {},
   "outputs": [
    {
     "name": "stdout",
     "output_type": "stream",
     "text": [
      "The sum list is: 0→1→1→0→0→1\n"
     ]
    }
   ],
   "source": [
    "sum_list = add_two_singly_linked_lists(list_1, list_2)\n",
    "print('The sum list is: ', end=\"\")\n",
    "print(sum_list)"
   ]
  },
  {
   "cell_type": "markdown",
   "metadata": {},
   "source": [
    "We obtained the correct result: 99785 + 325 = 100110 (encoded in a singly linked list as 0→1→1→0→0→1)"
   ]
  },
  {
   "cell_type": "code",
   "execution_count": null,
   "metadata": {
    "collapsed": true
   },
   "outputs": [],
   "source": []
  }
 ],
 "metadata": {
  "kernelspec": {
   "display_name": "Python 3.6",
   "language": "python",
   "name": "python_3.6"
  },
  "language_info": {
   "codemirror_mode": {
    "name": "ipython",
    "version": 3
   },
   "file_extension": ".py",
   "mimetype": "text/x-python",
   "name": "python",
   "nbconvert_exporter": "python",
   "pygments_lexer": "ipython3",
   "version": "3.6.4"
  }
 },
 "nbformat": 4,
 "nbformat_minor": 2
}
