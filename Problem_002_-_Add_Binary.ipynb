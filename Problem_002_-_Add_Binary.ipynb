{
 "cells": [
  {
   "cell_type": "markdown",
   "metadata": {},
   "source": [
    "### Add Binary Numbers\n",
    "Write a program to sum two binary numbers represented as strings.<br>\n",
    "\n",
    "Input: \"110\", \"01101\"<br>\n",
    "Output: \"10011\""
   ]
  },
  {
   "cell_type": "markdown",
   "metadata": {},
   "source": [
    "### Solution"
   ]
  },
  {
   "cell_type": "markdown",
   "metadata": {},
   "source": [
    "Of course Python has its own functions to work with binary numbers so one could use these to add two numbers..."
   ]
  },
  {
   "cell_type": "code",
   "execution_count": 1,
   "metadata": {},
   "outputs": [
    {
     "name": "stdout",
     "output_type": "stream",
     "text": [
      "0b10011\n"
     ]
    },
    {
     "data": {
      "text/plain": [
       "'10011'"
      ]
     },
     "execution_count": 1,
     "metadata": {},
     "output_type": "execute_result"
    }
   ],
   "source": [
    "X = '110'\n",
    "Y = '01101'\n",
    "S = bin(int(X, base=2) + int(Y, base=2))\n",
    "print(S)\n",
    "\n",
    "S.lstrip('0b')"
   ]
  },
  {
   "cell_type": "markdown",
   "metadata": {},
   "source": [
    "But we want to write the code for the binary addition (digit by digit) ourselves..."
   ]
  },
  {
   "cell_type": "code",
   "execution_count": 2,
   "metadata": {},
   "outputs": [],
   "source": [
    "class Solution:\n",
    "    def add_binary(X, Y):\n",
    "        # Pad numbers with leading 0's such that they have the same length; \n",
    "        num_digits = max(len(X), len(Y))\n",
    "        X = X.zfill(num_digits)\n",
    "        Y = Y.zfill(num_digits)\n",
    "        result = ''\n",
    "        \n",
    "        # Convert the strings to a list of tuples\n",
    "        digit_list = list(zip(X,Y))\n",
    "        \n",
    "        # Add digit by digit and divide by 2; use n to denote the quotient, and r to denote the remainder\n",
    "        n = 0\n",
    "        \n",
    "        for i in range(num_digits):\n",
    "            # Get the last digits\n",
    "            (x,y) = digit_list.pop()\n",
    "            s = int(x) + int(y) + n\n",
    "            n = s // 2\n",
    "            r = s % 2\n",
    "            result = str(r) + result\n",
    "            \n",
    "        if n == 1:\n",
    "            result = str(n) + result\n",
    "            \n",
    "        return result"
   ]
  },
  {
   "cell_type": "code",
   "execution_count": 3,
   "metadata": {},
   "outputs": [
    {
     "name": "stdout",
     "output_type": "stream",
     "text": [
      "110 + 101 = 1011\n"
     ]
    }
   ],
   "source": [
    "X = '110'\n",
    "Y = '101'\n",
    "Z = Solution.add_binary(X, Y)\n",
    "print(f'{X} + {Y} = {Z}')"
   ]
  },
  {
   "cell_type": "code",
   "execution_count": null,
   "metadata": {
    "collapsed": true
   },
   "outputs": [],
   "source": []
  }
 ],
 "metadata": {
  "kernelspec": {
   "display_name": "Python 3.6",
   "language": "python",
   "name": "python_3.6"
  },
  "language_info": {
   "codemirror_mode": {
    "name": "ipython",
    "version": 3
   },
   "file_extension": ".py",
   "mimetype": "text/x-python",
   "name": "python",
   "nbconvert_exporter": "python",
   "pygments_lexer": "ipython3",
   "version": "3.6.4"
  }
 },
 "nbformat": 4,
 "nbformat_minor": 2
}
