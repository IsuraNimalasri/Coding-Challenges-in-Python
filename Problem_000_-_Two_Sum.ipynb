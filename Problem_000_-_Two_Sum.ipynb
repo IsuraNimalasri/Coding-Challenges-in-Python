{
 "cells": [
  {
   "cell_type": "markdown",
   "metadata": {},
   "source": [
    "### Two Sum\n",
    "Given an array of integers A, return all pairs of two numbers that add up to a specific sum S.<br>\n",
    "\n",
    "Input: Array of integers A, and a number S.<br>\n",
    "\n",
    "Output: For each pair A[i] and A[j] that has the sum S, print<br>\n",
    "\"Solution #k: A[i]=N, A[j]=S-N\"<br>\n",
    "and return the list of tuples (i,j) such that A[i]+A[j]=S."
   ]
  },
  {
   "cell_type": "markdown",
   "metadata": {},
   "source": [
    "### Solutions\n",
    "I will give 2 solutions:\n",
    "- The first solution that one can think of, the brute force (dumb) solution, is to iterate through all pairs of elements and to check whether their sum is S. The efficiency of this solution is $O(n^2)$, so this is not useful for big arrays.<br>\n",
    "- The second solution iterates the list only once and uses an extra dictionary (or hash table) to keep track of all previous elements. For each element of the list, A[i], we search in the dictionary for its pair, S-A[i]. Efficiency: $O(n)$.  "
   ]
  },
  {
   "cell_type": "code",
   "execution_count": 1,
   "metadata": {
    "collapsed": true
   },
   "outputs": [],
   "source": [
    "class Solution:\n",
    "    # Solution 1 (brute force search), O(n^2)\n",
    "    def find_pairs_dumb(A, S):\n",
    "        #print(f\"Searching for 2 elements in {A} that have the sum S={S}\")\n",
    "        num_solutions = 0\n",
    "        solutions = []\n",
    "        for i in range(len(A)-1):\n",
    "            for j in range(i+1, len(A)):\n",
    "                if A[i] + A[j] == S:\n",
    "                    num_solutions += 1\n",
    "                    print(f\"Solution #{num_solutions}: A[{i}]={A[i]}, A[{j}]={A[j]}\")\n",
    "                    solutions.append((i, j))\n",
    "        if num_solutions == 0:\n",
    "            print('No solution has been found!')\n",
    "        return solutions\n",
    "    \n",
    "    # Solution 2 (efficient search using a dictionary), O(n)\n",
    "    def find_pairs_hash(A, S):\n",
    "        #print(f\"Searching for 2 elements in {A} that have the sum S={S}\")\n",
    "        previous_elem = {}\n",
    "        num_solutions = 0\n",
    "        solutions = []\n",
    "        for i in range(len(A)):\n",
    "            # Check for S-A[i] in the set of previous elements\n",
    "            if S-A[i] in previous_elem:\n",
    "                # Solution found. Print all pairs (if S-A[i] appeard multiple times)\n",
    "                for j in previous_elem[S-A[i]]:\n",
    "                    num_solutions += 1\n",
    "                    print(f\"Solution #{num_solutions}: A[{j}]={A[j]}, A[{i}]={A[i]}\")\n",
    "                    solutions.append((j, i))\n",
    "\n",
    "            # Add A[i] to the set of elements and continue the search with the next elem of A\n",
    "            if A[i] not in previous_elem:\n",
    "                # Add new element\n",
    "                previous_elem[A[i]] = [i]\n",
    "            else:\n",
    "                previous_elem[A[i]].append(i)\n",
    "\n",
    "        if num_solutions == 0:\n",
    "            print('No solution has been found!')\n",
    "        return solutions"
   ]
  },
  {
   "cell_type": "code",
   "execution_count": 2,
   "metadata": {},
   "outputs": [
    {
     "name": "stdout",
     "output_type": "stream",
     "text": [
      "Solution #1: A[1]=2, A[4]=10\n",
      "Solution #2: A[2]=2, A[4]=10\n",
      "Solution #3: A[6]=8, A[7]=4\n"
     ]
    },
    {
     "data": {
      "text/plain": [
       "[(1, 4), (2, 4), (6, 7)]"
      ]
     },
     "execution_count": 2,
     "metadata": {},
     "output_type": "execute_result"
    }
   ],
   "source": [
    "A = [1, 2, 2, 3, 10, 6, 8, 4]\n",
    "S = 12\n",
    "Solution.find_pairs_dumb(A, S)"
   ]
  },
  {
   "cell_type": "code",
   "execution_count": 3,
   "metadata": {},
   "outputs": [
    {
     "name": "stdout",
     "output_type": "stream",
     "text": [
      "Solution #1: A[1]=2, A[4]=10\n",
      "Solution #2: A[2]=2, A[4]=10\n",
      "Solution #3: A[6]=8, A[7]=4\n"
     ]
    },
    {
     "data": {
      "text/plain": [
       "[(1, 4), (2, 4), (6, 7)]"
      ]
     },
     "execution_count": 3,
     "metadata": {},
     "output_type": "execute_result"
    }
   ],
   "source": [
    "Solution.find_pairs_hash(A, S)"
   ]
  },
  {
   "cell_type": "code",
   "execution_count": 4,
   "metadata": {},
   "outputs": [
    {
     "name": "stdout",
     "output_type": "stream",
     "text": [
      "No solution has been found!\n"
     ]
    },
    {
     "data": {
      "text/plain": [
       "[]"
      ]
     },
     "execution_count": 4,
     "metadata": {},
     "output_type": "execute_result"
    }
   ],
   "source": [
    "Solution.find_pairs_hash(A, 20)"
   ]
  },
  {
   "cell_type": "markdown",
   "metadata": {
    "collapsed": true
   },
   "source": [
    "Compare the effciency of the 2 solutions"
   ]
  },
  {
   "cell_type": "code",
   "execution_count": 5,
   "metadata": {
    "collapsed": true
   },
   "outputs": [],
   "source": [
    "import random\n",
    "random.seed(1)\n",
    "A = random.sample(range(1, 100000), 10000)\n",
    "S = 50000"
   ]
  },
  {
   "cell_type": "code",
   "execution_count": 6,
   "metadata": {},
   "outputs": [],
   "source": [
    "%%capture\n",
    "result_hash = %%timeit -o Solution.find_pairs_hash(A, S)\n",
    "result_dumb = %%timeit -o Solution.find_pairs_dumb(A, S)"
   ]
  },
  {
   "cell_type": "code",
   "execution_count": 7,
   "metadata": {},
   "outputs": [
    {
     "name": "stdout",
     "output_type": "stream",
     "text": [
      "3.4 ms ± 77.4 µs per loop (mean ± std. dev. of 7 runs, 100 loops each)\n",
      "5.86 s ± 402 ms per loop (mean ± std. dev. of 7 runs, 1 loop each)\n"
     ]
    }
   ],
   "source": [
    "print(result_hash)\n",
    "print(result_dumb)"
   ]
  },
  {
   "cell_type": "markdown",
   "metadata": {},
   "source": [
    "### Conclusion\n",
    "Searching within an array of 10,000 elements, the brute force method took ~6 s to find all solutions, while the optimized search took only ~3 ms, so we improved the search time by ~2,000 times! "
   ]
  },
  {
   "cell_type": "code",
   "execution_count": null,
   "metadata": {
    "collapsed": true
   },
   "outputs": [],
   "source": []
  }
 ],
 "metadata": {
  "kernelspec": {
   "display_name": "Python 3.6",
   "language": "python",
   "name": "python_3.6"
  },
  "language_info": {
   "codemirror_mode": {
    "name": "ipython",
    "version": 3
   },
   "file_extension": ".py",
   "mimetype": "text/x-python",
   "name": "python",
   "nbconvert_exporter": "python",
   "pygments_lexer": "ipython3",
   "version": "3.6.4"
  }
 },
 "nbformat": 4,
 "nbformat_minor": 2
}
