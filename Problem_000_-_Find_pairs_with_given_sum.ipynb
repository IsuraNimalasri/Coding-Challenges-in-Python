{
 "cells": [
  {
   "cell_type": "markdown",
   "metadata": {},
   "source": [
    "Input: Array of integers A, and a number S.<br>\n",
    "Find and print all pairs of integers from array A whose sum is S.<br>\n",
    "Output: For each pair A[i] and A[j] that has the sum S, print<br>\n",
    "\"Solution #k: A[i]=N, A[j]=S-N\""
   ]
  },
  {
   "cell_type": "code",
   "execution_count": 1,
   "metadata": {
    "collapsed": true
   },
   "outputs": [],
   "source": [
    "def find_pairs(A, S):\n",
    "    print(f\"Searching for 2 elements in {A} that have the sum S={S}\")\n",
    "    previous_elem = {}\n",
    "    num_solutions = 0\n",
    "    for i in range(len(A)):\n",
    "        # Check for S-A[i] in the set of previous elements\n",
    "        if S-A[i] in previous_elem:\n",
    "            # Solution found. Print all pairs (if S-A[i] appeard multiple times)\n",
    "            for j in previous_elem[S-A[i]]:\n",
    "                num_solutions += 1\n",
    "                print(f\"Solution #{num_solutions}: A[{j}]={A[j]}, A[{i}]={A[i]}\")\n",
    "        \n",
    "        # Add A[i] to the set of elements and continue the search with the next elem of A\n",
    "        if A[i] not in previous_elem:\n",
    "            # Add new element\n",
    "            previous_elem[A[i]] = [i]\n",
    "        else:\n",
    "            previous_elem[A[i]].append(i)\n",
    "            \n",
    "    if num_solutions==0:\n",
    "        print('No solution has been found!')"
   ]
  },
  {
   "cell_type": "code",
   "execution_count": 2,
   "metadata": {},
   "outputs": [
    {
     "name": "stdout",
     "output_type": "stream",
     "text": [
      "Searching for 2 elements in [1, 2, 2, 3, 10, 6, 8, 4] that have the sum S=12\n",
      "Solution #1: A[1]=2, A[4]=10\n",
      "Solution #2: A[2]=2, A[4]=10\n",
      "Solution #3: A[6]=8, A[7]=4\n"
     ]
    }
   ],
   "source": [
    "A = [1, 2, 2, 3, 10, 6, 8, 4]\n",
    "S = 12\n",
    "find_pairs(A, S)"
   ]
  },
  {
   "cell_type": "code",
   "execution_count": 3,
   "metadata": {},
   "outputs": [
    {
     "name": "stdout",
     "output_type": "stream",
     "text": [
      "Searching for 2 elements in [1, 2, 2, 3, 10, 6, 8, 4] that have the sum S=20\n",
      "No solution has been found!\n"
     ]
    }
   ],
   "source": [
    "find_pairs(A, 20)"
   ]
  },
  {
   "cell_type": "code",
   "execution_count": null,
   "metadata": {
    "collapsed": true
   },
   "outputs": [],
   "source": []
  }
 ],
 "metadata": {
  "kernelspec": {
   "display_name": "Python 3.6",
   "language": "python",
   "name": "python_3.6"
  },
  "language_info": {
   "codemirror_mode": {
    "name": "ipython",
    "version": 3
   },
   "file_extension": ".py",
   "mimetype": "text/x-python",
   "name": "python",
   "nbconvert_exporter": "python",
   "pygments_lexer": "ipython3",
   "version": "3.6.4"
  }
 },
 "nbformat": 4,
 "nbformat_minor": 2
}
